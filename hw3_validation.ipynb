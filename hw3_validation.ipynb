{
 "cells": [
  {
   "cell_type": "markdown",
   "metadata": {},
   "source": [
    "# Homework 3 \n",
    "\n",
    "You will have 2 datasets to work on. \n",
    "#### You have to answer questions in this [form](https://goo.gl/forms/5gfxvKZxpoydoeOB2) and provide your code\n",
    "\n",
    "### 1. Wikipedia Web Traffic Time Series\n",
    "\n",
    "Data from [Kaggle competition](https://www.kaggle.com/c/web-traffic-time-series-forecasting)* )\n",
    "\n",
    "*wikipedia_train3* - train data *wikipedia_test3* - test data created by us from original train data . For more information about dataset, please visit Homework1 assignment\n",
    "\n",
    "\n",
    "### 2. French dataset\n",
    "\n",
    "Target variable is prime_tot_ttc – house of insurance price.<p>\n",
    "The variables in the files are:<p>\n",
    "code_postal: postal code of the insured property<p>\n",
    "nb_pieces: number of rooms<p>\n",
    "veranda: presence of a veranda<p>\n",
    "biens_nomades: ceiling of coverage of goods (laptop, tablets, musical instruments ,…)<p>\n",
    "sit_fam: family situation of the insured<p>\n",
    "profession: profession of the insured<p>\n",
    "nature_lri: nature of the insured property<p>\n",
    "societe: company covering the risk<p>\n",
    "cdomact: area of activity of the insured<p>\n",
    "niv_urbanisation: level of urbanization in which is the insured property<p>\n",
    "age_societaire: age of the member<p>\n",
    "objets_precieux: presence of precious objects in the insured property<p>\n",
    "pres_contrat_auto: holding a contract of auto insurance<p>\n",
    "formule: guarantee formula<p>\n",
    "sit_juridique: legal situation<p>\n",
    "surf_habitat: area of insured property<p>\n",
    "patrimoine_mob: amount of heritage insured furniture<p>\n",
    "var1 - ... - var11: non-explicit variables<p>\n"
   ]
  },
  {
   "cell_type": "markdown",
   "metadata": {},
   "source": [
    "## Wikipedia page views (SMAPE metric)"
   ]
  },
  {
   "cell_type": "code",
   "execution_count": 1,
   "metadata": {},
   "outputs": [],
   "source": [
    "import pandas as pd\n",
    "import numpy as np\n",
    "import math\n",
    "\n",
    "from sklearn.model_selection import GridSearchCV\n",
    "from sklearn.tree import DecisionTreeRegressor\n"
   ]
  },
  {
   "cell_type": "code",
   "execution_count": 2,
   "metadata": {},
   "outputs": [],
   "source": [
    "### This is data from wikipedia3 archive in data folder\n",
    "\n",
    "train = pd.read_csv(\"../data/wikipedia_train3.csv\",parse_dates=['date'])\n",
    "test = pd.read_csv(\"../data/wikipedia_test3.csv\",parse_dates=['date'])"
   ]
  },
  {
   "cell_type": "code",
   "execution_count": 3,
   "metadata": {},
   "outputs": [
    {
     "data": {
      "text/html": [
       "<div>\n",
       "<style scoped>\n",
       "    .dataframe tbody tr th:only-of-type {\n",
       "        vertical-align: middle;\n",
       "    }\n",
       "\n",
       "    .dataframe tbody tr th {\n",
       "        vertical-align: top;\n",
       "    }\n",
       "\n",
       "    .dataframe thead th {\n",
       "        text-align: right;\n",
       "    }\n",
       "</style>\n",
       "<table border=\"1\" class=\"dataframe\">\n",
       "  <thead>\n",
       "    <tr style=\"text-align: right;\">\n",
       "      <th></th>\n",
       "      <th>Page</th>\n",
       "      <th>date</th>\n",
       "      <th>Visits</th>\n",
       "    </tr>\n",
       "  </thead>\n",
       "  <tbody>\n",
       "    <tr>\n",
       "      <th>0</th>\n",
       "      <td>Special:Search_zh.wikipedia.org_all-access_spider</td>\n",
       "      <td>2016-01-01</td>\n",
       "      <td>2660.0</td>\n",
       "    </tr>\n",
       "    <tr>\n",
       "      <th>1</th>\n",
       "      <td>Wikipedia:首页_zh.wikipedia.org_all-access_spider</td>\n",
       "      <td>2016-01-01</td>\n",
       "      <td>9936.0</td>\n",
       "    </tr>\n",
       "    <tr>\n",
       "      <th>2</th>\n",
       "      <td>Project:上传_zh.wikipedia.org_all-access_spider</td>\n",
       "      <td>2016-01-01</td>\n",
       "      <td>1712.0</td>\n",
       "    </tr>\n",
       "    <tr>\n",
       "      <th>3</th>\n",
       "      <td>Special:用户登录_zh.wikipedia.org_all-access_spider</td>\n",
       "      <td>2016-01-01</td>\n",
       "      <td>3175.0</td>\n",
       "    </tr>\n",
       "    <tr>\n",
       "      <th>4</th>\n",
       "      <td>Championnat_d'Europe_de_football_2016_fr.wikip...</td>\n",
       "      <td>2016-01-01</td>\n",
       "      <td>1682.0</td>\n",
       "    </tr>\n",
       "  </tbody>\n",
       "</table>\n",
       "</div>"
      ],
      "text/plain": [
       "                                                Page       date  Visits\n",
       "0  Special:Search_zh.wikipedia.org_all-access_spider 2016-01-01  2660.0\n",
       "1    Wikipedia:首页_zh.wikipedia.org_all-access_spider 2016-01-01  9936.0\n",
       "2      Project:上传_zh.wikipedia.org_all-access_spider 2016-01-01  1712.0\n",
       "3    Special:用户登录_zh.wikipedia.org_all-access_spider 2016-01-01  3175.0\n",
       "4  Championnat_d'Europe_de_football_2016_fr.wikip... 2016-01-01  1682.0"
      ]
     },
     "execution_count": 3,
     "metadata": {},
     "output_type": "execute_result"
    }
   ],
   "source": [
    "train.shape, test.shape\n",
    "train.head()"
   ]
  },
  {
   "cell_type": "markdown",
   "metadata": {},
   "source": [
    "**1.** Take a look carefuly at train and test dataset. Note for you what is the difference in them and how they are dependent. **For _only_ train** create a holdout validation using any type of split you think is useful here. What is the split type you are using? Answer in google forms\n",
    "\n",
    "**2.** Write a code to compare the score of your validation and test set. For scoring, use metric SMAPE (code is in lecture). For prediction use 15 previous days median. In the google form write your validation score."
   ]
  },
  {
   "cell_type": "code",
   "execution_count": 4,
   "metadata": {},
   "outputs": [],
   "source": [
    "def smape_fast(y_true, y_pred):\n",
    "    out = 0\n",
    "    for i in range(y_true.shape[0]):\n",
    "        a = y_true.iloc[i]\n",
    "        b = y_pred[i]\n",
    "        if b < 1:\n",
    "            b = 0\n",
    "        c = a+b\n",
    "        if c == 0:\n",
    "            continue\n",
    "        out += math.fabs(a - b) / c\n",
    "    out *= (200.0 / y_true.shape[0])\n",
    "    return out\n",
    "\n",
    "def smape_sfast(y_true, y_pred):\n",
    "    return np.mean( (np.abs(y_pred - y_true)) / ((np.abs(y_true) + np.abs(y_pred))/2)) * 100"
   ]
  },
  {
   "cell_type": "code",
   "execution_count": 5,
   "metadata": {},
   "outputs": [
    {
     "data": {
      "text/plain": [
       "numpy.datetime64('2016-08-17T00:00:00.000000000')"
      ]
     },
     "execution_count": 5,
     "metadata": {},
     "output_type": "execute_result"
    }
   ],
   "source": [
    "start_date = train.date.unique()[-15:][0]\n",
    "start_date"
   ]
  },
  {
   "cell_type": "code",
   "execution_count": 6,
   "metadata": {},
   "outputs": [
    {
     "data": {
      "text/plain": [
       "numpy.datetime64('2016-07-14T00:00:00.000000000')"
      ]
     },
     "execution_count": 6,
     "metadata": {},
     "output_type": "execute_result"
    }
   ],
   "source": [
    "split_date = train.date.unique()[train.date.unique().size - int((test.date.unique().size/(test.date.unique().size + train.date.unique().size))*train.date.unique().size)]\n",
    "split_date"
   ]
  },
  {
   "cell_type": "code",
   "execution_count": 7,
   "metadata": {},
   "outputs": [],
   "source": [
    "### Your code here\n",
    "from dateutil.relativedelta import relativedelta\n",
    "V_train, V_test = train[train.date < split_date], train[train.date >= pd.to_datetime(split_date) + relativedelta(days=10)]\n",
    "Vmedian_baseline = V_train.loc[V_train.date >= V_train.date.unique()[-15]].groupby(['Page']).median(numeric_only = True).reset_index()\n",
    "Vmedian_baseline.rename(columns={\"Visits\": \"pred_Visits\"}, inplace=True)\n",
    "\n",
    "median_baseline = train.loc[train.date >= train.date.unique()[-15]].groupby(['Page']).median(numeric_only = True).reset_index()\n",
    "median_baseline.rename(columns={\"Visits\": \"pred_Visits\"}, inplace=True)"
   ]
  },
  {
   "cell_type": "code",
   "execution_count": 8,
   "metadata": {},
   "outputs": [
    {
     "data": {
      "text/html": [
       "<div>\n",
       "<style scoped>\n",
       "    .dataframe tbody tr th:only-of-type {\n",
       "        vertical-align: middle;\n",
       "    }\n",
       "\n",
       "    .dataframe tbody tr th {\n",
       "        vertical-align: top;\n",
       "    }\n",
       "\n",
       "    .dataframe thead th {\n",
       "        text-align: right;\n",
       "    }\n",
       "</style>\n",
       "<table border=\"1\" class=\"dataframe\">\n",
       "  <thead>\n",
       "    <tr style=\"text-align: right;\">\n",
       "      <th></th>\n",
       "      <th>Page</th>\n",
       "      <th>date</th>\n",
       "      <th>Visits</th>\n",
       "    </tr>\n",
       "  </thead>\n",
       "  <tbody>\n",
       "    <tr>\n",
       "      <th>2422075</th>\n",
       "      <td>Special:Search_zh.wikipedia.org_all-access_spider</td>\n",
       "      <td>2016-07-24</td>\n",
       "      <td>1514.0</td>\n",
       "    </tr>\n",
       "    <tr>\n",
       "      <th>2422076</th>\n",
       "      <td>Wikipedia:首页_zh.wikipedia.org_all-access_spider</td>\n",
       "      <td>2016-07-24</td>\n",
       "      <td>8308.0</td>\n",
       "    </tr>\n",
       "    <tr>\n",
       "      <th>2422077</th>\n",
       "      <td>Project:上传_zh.wikipedia.org_all-access_spider</td>\n",
       "      <td>2016-07-24</td>\n",
       "      <td>3456.0</td>\n",
       "    </tr>\n",
       "    <tr>\n",
       "      <th>2422078</th>\n",
       "      <td>Special:用户登录_zh.wikipedia.org_all-access_spider</td>\n",
       "      <td>2016-07-24</td>\n",
       "      <td>4864.0</td>\n",
       "    </tr>\n",
       "    <tr>\n",
       "      <th>2422079</th>\n",
       "      <td>Championnat_d'Europe_de_football_2016_fr.wikip...</td>\n",
       "      <td>2016-07-24</td>\n",
       "      <td>946.0</td>\n",
       "    </tr>\n",
       "  </tbody>\n",
       "</table>\n",
       "</div>"
      ],
      "text/plain": [
       "                                                      Page       date  Visits\n",
       "2422075  Special:Search_zh.wikipedia.org_all-access_spider 2016-07-24  1514.0\n",
       "2422076    Wikipedia:首页_zh.wikipedia.org_all-access_spider 2016-07-24  8308.0\n",
       "2422077      Project:上传_zh.wikipedia.org_all-access_spider 2016-07-24  3456.0\n",
       "2422078    Special:用户登录_zh.wikipedia.org_all-access_spider 2016-07-24  4864.0\n",
       "2422079  Championnat_d'Europe_de_football_2016_fr.wikip... 2016-07-24   946.0"
      ]
     },
     "execution_count": 8,
     "metadata": {},
     "output_type": "execute_result"
    }
   ],
   "source": [
    "V_test.head()"
   ]
  },
  {
   "cell_type": "code",
   "execution_count": 9,
   "metadata": {},
   "outputs": [],
   "source": [
    "Vpred1 = V_test.merge(Vmedian_baseline, on=\"Page\", how='left')\n",
    "#Vpred1"
   ]
  },
  {
   "cell_type": "code",
   "execution_count": 10,
   "metadata": {},
   "outputs": [],
   "source": [
    "pred = test.merge(median_baseline, on=\"Page\", how='left')\n",
    "#pred"
   ]
  },
  {
   "cell_type": "code",
   "execution_count": 11,
   "metadata": {},
   "outputs": [
    {
     "data": {
      "text/plain": [
       "40.42231893101511"
      ]
     },
     "execution_count": 11,
     "metadata": {},
     "output_type": "execute_result"
    }
   ],
   "source": [
    "smape_fast(Vpred1['Visits'], Vpred1['pred_Visits'])"
   ]
  },
  {
   "cell_type": "code",
   "execution_count": 12,
   "metadata": {},
   "outputs": [
    {
     "data": {
      "text/plain": [
       "40.00701270204617"
      ]
     },
     "execution_count": 12,
     "metadata": {},
     "output_type": "execute_result"
    }
   ],
   "source": [
    "smape_fast(pred['Visits'], pred['pred_Visits'])"
   ]
  },
  {
   "cell_type": "markdown",
   "metadata": {
    "collapsed": true
   },
   "source": [
    "**3.** Perform K-fold validation using your type of split. Run GridSearch with any classificator you like and set of parameters to optimize, providing it with your custom validation.  Compare the score of your validation and test set. For scoring, again, use metrics SMAPE. In the google form write your scores on validation and test sets"
   ]
  },
  {
   "cell_type": "code",
   "execution_count": 13,
   "metadata": {},
   "outputs": [],
   "source": [
    "### Your code here\n",
    "def create_validation(df, start_date):\n",
    "    return df.loc[(df['date'] >= pd.to_datetime(start_date) - relativedelta(days = 21)) & \\\n",
    "                  (df['date'] <  pd.to_datetime(start_date) + relativedelta(days = 0))].index, \\\n",
    "           df.loc[(df['date'] >= pd.to_datetime(start_date) + relativedelta(days = 10) ) & \\\n",
    "                  (df['date'] <  pd.to_datetime(start_date) + relativedelta(months = 3) )].index\n"
   ]
  },
  {
   "cell_type": "code",
   "execution_count": 14,
   "metadata": {},
   "outputs": [
    {
     "name": "stderr",
     "output_type": "stream",
     "text": [
      "C:\\ProgramData\\Anaconda3\\lib\\site-packages\\ipykernel_launcher.py:2: SettingWithCopyWarning: \n",
      "A value is trying to be set on a copy of a slice from a DataFrame.\n",
      "Try using .loc[row_indexer,col_indexer] = value instead\n",
      "\n",
      "See the caveats in the documentation: http://pandas.pydata.org/pandas-docs/stable/indexing.html#indexing-view-versus-copy\n",
      "  \n"
     ]
    }
   ],
   "source": [
    "train['DayOfWeek'] = train[\"date\"].dt.dayofweek\n",
    "V_test['DayOfWeek'] = V_test[\"date\"].dt.dayofweek\n",
    "test['DayOfWeek'] = test[\"date\"].dt.dayofweek"
   ]
  },
  {
   "cell_type": "code",
   "execution_count": 15,
   "metadata": {},
   "outputs": [],
   "source": [
    "### Your validation iterator\n",
    "train_dates = ['2016-01-22', '2016-02-15', '2016-04-01', '2016-05-15', '2016-06-01']\n",
    "CViterator = []\n",
    "for i in train_dates:\n",
    "    trainIndices, valIndices = create_validation(train, i)\n",
    "    CViterator.append( (trainIndices, valIndices) )"
   ]
  },
  {
   "cell_type": "code",
   "execution_count": 16,
   "metadata": {},
   "outputs": [],
   "source": [
    "from collections import defaultdict\n",
    "from sklearn.preprocessing import LabelEncoder, OneHotEncoder\n",
    "def __encode_categorical(df_list, cat_cols):\n",
    "    # initialize placeholder\n",
    "    d = defaultdict(LabelEncoder)\n",
    "    # fit and encode train/test,\n",
    "    codes = pd.concat(\n",
    "        [df[cat_cols] for df in df_list],\n",
    "        axis=0\n",
    "    ).fillna('').apply(\n",
    "        lambda x: d[x.name].fit(x)\n",
    "    ),\n",
    "    # transform encodings to train/test etc\n",
    "    for df in df_list:\n",
    "        df[cat_cols] = df[cat_cols].fillna('').apply(\n",
    "            lambda x: d[x.name].transform(x))"
   ]
  },
  {
   "cell_type": "code",
   "execution_count": 17,
   "metadata": {},
   "outputs": [
    {
     "name": "stderr",
     "output_type": "stream",
     "text": [
      "C:\\ProgramData\\Anaconda3\\lib\\site-packages\\pandas\\core\\frame.py:2540: SettingWithCopyWarning: \n",
      "A value is trying to be set on a copy of a slice from a DataFrame.\n",
      "Try using .loc[row_indexer,col_indexer] = value instead\n",
      "\n",
      "See the caveats in the documentation: http://pandas.pydata.org/pandas-docs/stable/indexing.html#indexing-view-versus-copy\n",
      "  self[k1] = value[k2]\n"
     ]
    }
   ],
   "source": [
    "# label encode data (categorical + binary)\n",
    "__encode_categorical(df_list=[train, test, V_test], cat_cols=['Page'])\n"
   ]
  },
  {
   "cell_type": "code",
   "execution_count": 18,
   "metadata": {},
   "outputs": [],
   "source": [
    "X_train = train.drop(['Visits', 'date'], axis = 1)\n",
    "y_train = train['Visits']\n",
    "\n",
    "X_testV = V_test.drop(['Visits', 'date'], axis = 1)\n",
    "y_testV = V_test['Visits']\n",
    "\n",
    "X_test = test.drop(['Visits','date'], axis = 1)\n",
    "y_test = test['Visits']"
   ]
  },
  {
   "cell_type": "markdown",
   "metadata": {},
   "source": [
    "Yeah, I know, that DT regressor it's not the best estimator for this specific case; but it seems that other estimators will be fitting forever, especially with proper features encoding."
   ]
  },
  {
   "cell_type": "code",
   "execution_count": 19,
   "metadata": {},
   "outputs": [
    {
     "name": "stdout",
     "output_type": "stream",
     "text": [
      "Fitting 5 folds for each of 2 candidates, totalling 10 fits\n"
     ]
    },
    {
     "name": "stderr",
     "output_type": "stream",
     "text": [
      "[Parallel(n_jobs=-1)]: Done  10 out of  10 | elapsed:   17.3s finished\n"
     ]
    },
    {
     "name": "stdout",
     "output_type": "stream",
     "text": [
      "Wall time: 29.4 s\n"
     ]
    },
    {
     "data": {
      "text/plain": [
       "GridSearchCV(cv=[(Int64Index([     0,      1,      2,      3,      4,      5,      6,      7,\n",
       "                 8,      9,\n",
       "            ...\n",
       "            248105, 248106, 248107, 248108, 248109, 248110, 248111, 248112,\n",
       "            248113, 248114],\n",
       "           dtype='int64', length=248115), Int64Index([ 366265,  366266...2882855, 2882856,\n",
       "            2882857, 2882858, 2882859],\n",
       "           dtype='int64', length=968830))],\n",
       "       error_score='raise',\n",
       "       estimator=DecisionTreeRegressor(criterion='mse', max_depth=None, max_features=None,\n",
       "           max_leaf_nodes=None, min_impurity_decrease=0.0,\n",
       "           min_impurity_split=None, min_samples_leaf=1,\n",
       "           min_samples_split=2, min_weight_fraction_leaf=0.0,\n",
       "           presort=False, random_state=None, splitter='best'),\n",
       "       fit_params=None, iid=True, n_jobs=-1,\n",
       "       param_grid={'max_depth': (None, 30)}, pre_dispatch='2*n_jobs',\n",
       "       refit=True, return_train_score='warn', scoring=None, verbose=2)"
      ]
     },
     "execution_count": 19,
     "metadata": {},
     "output_type": "execute_result"
    }
   ],
   "source": [
    "DTregressor = DecisionTreeRegressor()\n",
    "params = {\n",
    "    'max_depth': (None, 30)\n",
    "}\n",
    "grid_search = GridSearchCV(DTregressor, param_grid = params, cv=CViterator, n_jobs = -1, verbose=2)\n",
    "\n",
    "%time grid_search.fit(X_train, y_train)"
   ]
  },
  {
   "cell_type": "code",
   "execution_count": 20,
   "metadata": {},
   "outputs": [
    {
     "data": {
      "text/plain": [
       "{'max_depth': 30}"
      ]
     },
     "execution_count": 20,
     "metadata": {},
     "output_type": "execute_result"
    }
   ],
   "source": [
    "grid_search.best_params_"
   ]
  },
  {
   "cell_type": "code",
   "execution_count": 21,
   "metadata": {},
   "outputs": [],
   "source": [
    "y_predV = grid_search.predict(V_test.drop(['Visits', 'date'], axis = 1))"
   ]
  },
  {
   "cell_type": "code",
   "execution_count": 22,
   "metadata": {},
   "outputs": [
    {
     "data": {
      "text/plain": [
       "58.1457268281396"
      ]
     },
     "execution_count": 22,
     "metadata": {},
     "output_type": "execute_result"
    }
   ],
   "source": [
    "smape_fast(V_test['Visits'], y_predV)"
   ]
  },
  {
   "cell_type": "code",
   "execution_count": 23,
   "metadata": {},
   "outputs": [],
   "source": [
    "y_pred = grid_search.predict(X_test)"
   ]
  },
  {
   "cell_type": "code",
   "execution_count": 24,
   "metadata": {},
   "outputs": [
    {
     "data": {
      "text/plain": [
       "60.67596186586641"
      ]
     },
     "execution_count": 24,
     "metadata": {},
     "output_type": "execute_result"
    }
   ],
   "source": [
    "smape_fast(test['Visits'], y_pred)"
   ]
  },
  {
   "cell_type": "markdown",
   "metadata": {
    "collapsed": true
   },
   "source": [
    "## French house insurance prediction (MAPE metric)"
   ]
  },
  {
   "cell_type": "markdown",
   "metadata": {},
   "source": [
    "**1.** Take a look carefuly at train and test dataset. Note for you what is the difference in them and how they are dependent. You may use any tool you like, any EDA you want. Decribe your validation and reason for your choice in google form.\n",
    "\n",
    "**2.** \n",
    "+ Implement your validation. \n",
    "+ Generate additional features. \n",
    "+ Build a model you like/you can. \n",
    "+ Wait for training your model. If it takes too much time, listen to https://www.youtube.com/watch?v=XWkGL4eZR3E\n",
    "+ Submit your scores on validation and test to google form. Use MAPE metric for scoring. \n",
    "+ Ланфрен ланфра лантатита"
   ]
  },
  {
   "cell_type": "code",
   "execution_count": 25,
   "metadata": {},
   "outputs": [],
   "source": [
    "def mape(y_true, y_pred):\n",
    "    return np.mean(np.abs((y_true - y_pred) / y_true)) * 100"
   ]
  },
  {
   "cell_type": "code",
   "execution_count": 26,
   "metadata": {},
   "outputs": [],
   "source": [
    "train2 = pd.read_csv('../data/train_french.csv')\n",
    "test2 = pd.read_csv('../data/test_french.csv')"
   ]
  },
  {
   "cell_type": "code",
   "execution_count": 27,
   "metadata": {},
   "outputs": [
    {
     "data": {
      "text/html": [
       "<div>\n",
       "<style scoped>\n",
       "    .dataframe tbody tr th:only-of-type {\n",
       "        vertical-align: middle;\n",
       "    }\n",
       "\n",
       "    .dataframe tbody tr th {\n",
       "        vertical-align: top;\n",
       "    }\n",
       "\n",
       "    .dataframe thead th {\n",
       "        text-align: right;\n",
       "    }\n",
       "</style>\n",
       "<table border=\"1\" class=\"dataframe\">\n",
       "  <thead>\n",
       "    <tr style=\"text-align: right;\">\n",
       "      <th></th>\n",
       "      <th>code_postal</th>\n",
       "      <th>nb_pieces</th>\n",
       "      <th>veranda</th>\n",
       "      <th>biens_nomades</th>\n",
       "      <th>sit_fam</th>\n",
       "      <th>profession</th>\n",
       "      <th>nature_lri</th>\n",
       "      <th>societe</th>\n",
       "      <th>domaine_activite</th>\n",
       "      <th>niv_urbanisation</th>\n",
       "      <th>...</th>\n",
       "      <th>var3</th>\n",
       "      <th>var4</th>\n",
       "      <th>var5</th>\n",
       "      <th>var6</th>\n",
       "      <th>var7</th>\n",
       "      <th>var8</th>\n",
       "      <th>var9</th>\n",
       "      <th>var10</th>\n",
       "      <th>var11</th>\n",
       "      <th>prime_tot_ttc</th>\n",
       "    </tr>\n",
       "  </thead>\n",
       "  <tbody>\n",
       "    <tr>\n",
       "      <th>0</th>\n",
       "      <td>62510</td>\n",
       "      <td>1</td>\n",
       "      <td>NON</td>\n",
       "      <td>500</td>\n",
       "      <td>Indivividu</td>\n",
       "      <td>agent; employe</td>\n",
       "      <td>Sans information</td>\n",
       "      <td>2</td>\n",
       "      <td>34</td>\n",
       "      <td>A</td>\n",
       "      <td>...</td>\n",
       "      <td>0</td>\n",
       "      <td>194</td>\n",
       "      <td>49</td>\n",
       "      <td>0</td>\n",
       "      <td>0</td>\n",
       "      <td>1</td>\n",
       "      <td>NON</td>\n",
       "      <td>30</td>\n",
       "      <td>2</td>\n",
       "      <td>67.68</td>\n",
       "    </tr>\n",
       "    <tr>\n",
       "      <th>1</th>\n",
       "      <td>83126</td>\n",
       "      <td>2</td>\n",
       "      <td>NON</td>\n",
       "      <td>500</td>\n",
       "      <td>Indivividu</td>\n",
       "      <td>cadre; ingenieur</td>\n",
       "      <td>Sans information</td>\n",
       "      <td>2</td>\n",
       "      <td>37</td>\n",
       "      <td>A</td>\n",
       "      <td>...</td>\n",
       "      <td>0</td>\n",
       "      <td>0</td>\n",
       "      <td>100</td>\n",
       "      <td>0</td>\n",
       "      <td>0</td>\n",
       "      <td>5</td>\n",
       "      <td>NON</td>\n",
       "      <td>12</td>\n",
       "      <td>1</td>\n",
       "      <td>120.60</td>\n",
       "    </tr>\n",
       "    <tr>\n",
       "      <th>2</th>\n",
       "      <td>68224</td>\n",
       "      <td>3</td>\n",
       "      <td>NON</td>\n",
       "      <td>500</td>\n",
       "      <td>Indivividu</td>\n",
       "      <td>enseignant; formateur; chercheur</td>\n",
       "      <td>Maison</td>\n",
       "      <td>1</td>\n",
       "      <td>1</td>\n",
       "      <td>E</td>\n",
       "      <td>...</td>\n",
       "      <td>1</td>\n",
       "      <td>98</td>\n",
       "      <td>100</td>\n",
       "      <td>0</td>\n",
       "      <td>0</td>\n",
       "      <td>5</td>\n",
       "      <td>NON</td>\n",
       "      <td>30</td>\n",
       "      <td>2</td>\n",
       "      <td>100.62</td>\n",
       "    </tr>\n",
       "    <tr>\n",
       "      <th>3</th>\n",
       "      <td>30263</td>\n",
       "      <td>3</td>\n",
       "      <td>NON</td>\n",
       "      <td>500</td>\n",
       "      <td>Famille</td>\n",
       "      <td>agent; employe</td>\n",
       "      <td>Maison</td>\n",
       "      <td>2</td>\n",
       "      <td>34</td>\n",
       "      <td>A</td>\n",
       "      <td>...</td>\n",
       "      <td>0</td>\n",
       "      <td>151</td>\n",
       "      <td>38</td>\n",
       "      <td>0</td>\n",
       "      <td>0</td>\n",
       "      <td>1</td>\n",
       "      <td>NON</td>\n",
       "      <td>15</td>\n",
       "      <td>1</td>\n",
       "      <td>58.73</td>\n",
       "    </tr>\n",
       "    <tr>\n",
       "      <th>4</th>\n",
       "      <td>72231</td>\n",
       "      <td>2</td>\n",
       "      <td>NON</td>\n",
       "      <td>500</td>\n",
       "      <td>Famille</td>\n",
       "      <td>educateur; animateur; moniteur</td>\n",
       "      <td>Appartement</td>\n",
       "      <td>1</td>\n",
       "      <td>19</td>\n",
       "      <td>D</td>\n",
       "      <td>...</td>\n",
       "      <td>0</td>\n",
       "      <td>39</td>\n",
       "      <td>100</td>\n",
       "      <td>0</td>\n",
       "      <td>0</td>\n",
       "      <td>1</td>\n",
       "      <td>NON</td>\n",
       "      <td>0</td>\n",
       "      <td>2</td>\n",
       "      <td>132.65</td>\n",
       "    </tr>\n",
       "  </tbody>\n",
       "</table>\n",
       "<p>5 rows × 29 columns</p>\n",
       "</div>"
      ],
      "text/plain": [
       "   code_postal  nb_pieces veranda  biens_nomades     sit_fam  \\\n",
       "0        62510          1     NON            500  Indivividu   \n",
       "1        83126          2     NON            500  Indivividu   \n",
       "2        68224          3     NON            500  Indivividu   \n",
       "3        30263          3     NON            500     Famille   \n",
       "4        72231          2     NON            500     Famille   \n",
       "\n",
       "                         profession        nature_lri  societe  \\\n",
       "0                    agent; employe  Sans information        2   \n",
       "1                  cadre; ingenieur  Sans information        2   \n",
       "2  enseignant; formateur; chercheur            Maison        1   \n",
       "3                    agent; employe            Maison        2   \n",
       "4    educateur; animateur; moniteur       Appartement        1   \n",
       "\n",
       "   domaine_activite niv_urbanisation      ...        var3  var4  var5  var6  \\\n",
       "0                34                A      ...           0   194    49     0   \n",
       "1                37                A      ...           0     0   100     0   \n",
       "2                 1                E      ...           1    98   100     0   \n",
       "3                34                A      ...           0   151    38     0   \n",
       "4                19                D      ...           0    39   100     0   \n",
       "\n",
       "   var7  var8  var9  var10  var11  prime_tot_ttc  \n",
       "0     0     1   NON     30      2          67.68  \n",
       "1     0     5   NON     12      1         120.60  \n",
       "2     0     5   NON     30      2         100.62  \n",
       "3     0     1   NON     15      1          58.73  \n",
       "4     0     1   NON      0      2         132.65  \n",
       "\n",
       "[5 rows x 29 columns]"
      ]
     },
     "execution_count": 27,
     "metadata": {},
     "output_type": "execute_result"
    }
   ],
   "source": [
    "train2.head()"
   ]
  },
  {
   "cell_type": "code",
   "execution_count": 28,
   "metadata": {},
   "outputs": [],
   "source": [
    "features = train2.columns.drop('prime_tot_ttc')\n",
    "uniqueValues = pd.Series([train2[col].value_counts().size for col in features] , index = features)"
   ]
  },
  {
   "cell_type": "code",
   "execution_count": 29,
   "metadata": {},
   "outputs": [],
   "source": [
    "binary_cols = [\n",
    "                 'veranda',\n",
    "                 'sit_fam',\n",
    "                 'societe',\n",
    "                 'objets_precieux',\n",
    "                 'pres_contrat_auto',\n",
    "                 'formule',\n",
    "                 'var3',\n",
    "                 'var6',\n",
    "                 'var7',\n",
    "                 'var9',\n",
    "                 'var11'\n",
    "                ]\n",
    "categorical_cols = ['nature_lri', 'niv_urbanisation', 'profession', 'code_postal']\n",
    "ordinal_cols = [\n",
    "                 'nb_pieces',\n",
    "                 'biens_nomades',\n",
    "                 'domaine_activite',\n",
    "                 'age_societaire',\n",
    "                 'sit_juridique',\n",
    "                 'surf_habitat',\n",
    "                 'patrimoine_mob',\n",
    "                 'var1',\n",
    "                 'var2',\n",
    "                 'var4',\n",
    "                 'var5',\n",
    "                 'var8',\n",
    "                 'var10'\n",
    "                ]"
   ]
  },
  {
   "cell_type": "code",
   "execution_count": 30,
   "metadata": {},
   "outputs": [],
   "source": [
    "__encode_categorical(df_list = [train2, test2], cat_cols = categorical_cols + binary_cols)"
   ]
  },
  {
   "cell_type": "code",
   "execution_count": 31,
   "metadata": {},
   "outputs": [
    {
     "data": {
      "text/html": [
       "<div>\n",
       "<style scoped>\n",
       "    .dataframe tbody tr th:only-of-type {\n",
       "        vertical-align: middle;\n",
       "    }\n",
       "\n",
       "    .dataframe tbody tr th {\n",
       "        vertical-align: top;\n",
       "    }\n",
       "\n",
       "    .dataframe thead th {\n",
       "        text-align: right;\n",
       "    }\n",
       "</style>\n",
       "<table border=\"1\" class=\"dataframe\">\n",
       "  <thead>\n",
       "    <tr style=\"text-align: right;\">\n",
       "      <th></th>\n",
       "      <th>code_postal</th>\n",
       "      <th>nb_pieces</th>\n",
       "      <th>veranda</th>\n",
       "      <th>biens_nomades</th>\n",
       "      <th>sit_fam</th>\n",
       "      <th>profession</th>\n",
       "      <th>nature_lri</th>\n",
       "      <th>societe</th>\n",
       "      <th>domaine_activite</th>\n",
       "      <th>niv_urbanisation</th>\n",
       "      <th>...</th>\n",
       "      <th>var3</th>\n",
       "      <th>var4</th>\n",
       "      <th>var5</th>\n",
       "      <th>var6</th>\n",
       "      <th>var7</th>\n",
       "      <th>var8</th>\n",
       "      <th>var9</th>\n",
       "      <th>var10</th>\n",
       "      <th>var11</th>\n",
       "      <th>prime_tot_ttc</th>\n",
       "    </tr>\n",
       "  </thead>\n",
       "  <tbody>\n",
       "    <tr>\n",
       "      <th>0</th>\n",
       "      <td>16131</td>\n",
       "      <td>1</td>\n",
       "      <td>0</td>\n",
       "      <td>500</td>\n",
       "      <td>1</td>\n",
       "      <td>1</td>\n",
       "      <td>5</td>\n",
       "      <td>1</td>\n",
       "      <td>34</td>\n",
       "      <td>0</td>\n",
       "      <td>...</td>\n",
       "      <td>0</td>\n",
       "      <td>194</td>\n",
       "      <td>49</td>\n",
       "      <td>0</td>\n",
       "      <td>0</td>\n",
       "      <td>1</td>\n",
       "      <td>0</td>\n",
       "      <td>30</td>\n",
       "      <td>1</td>\n",
       "      <td>67.68</td>\n",
       "    </tr>\n",
       "    <tr>\n",
       "      <th>1</th>\n",
       "      <td>22013</td>\n",
       "      <td>2</td>\n",
       "      <td>0</td>\n",
       "      <td>500</td>\n",
       "      <td>1</td>\n",
       "      <td>4</td>\n",
       "      <td>5</td>\n",
       "      <td>1</td>\n",
       "      <td>37</td>\n",
       "      <td>0</td>\n",
       "      <td>...</td>\n",
       "      <td>0</td>\n",
       "      <td>0</td>\n",
       "      <td>100</td>\n",
       "      <td>0</td>\n",
       "      <td>0</td>\n",
       "      <td>5</td>\n",
       "      <td>0</td>\n",
       "      <td>12</td>\n",
       "      <td>0</td>\n",
       "      <td>120.60</td>\n",
       "    </tr>\n",
       "    <tr>\n",
       "      <th>2</th>\n",
       "      <td>18092</td>\n",
       "      <td>3</td>\n",
       "      <td>0</td>\n",
       "      <td>500</td>\n",
       "      <td>1</td>\n",
       "      <td>10</td>\n",
       "      <td>2</td>\n",
       "      <td>0</td>\n",
       "      <td>1</td>\n",
       "      <td>4</td>\n",
       "      <td>...</td>\n",
       "      <td>1</td>\n",
       "      <td>98</td>\n",
       "      <td>100</td>\n",
       "      <td>0</td>\n",
       "      <td>0</td>\n",
       "      <td>5</td>\n",
       "      <td>0</td>\n",
       "      <td>30</td>\n",
       "      <td>1</td>\n",
       "      <td>100.62</td>\n",
       "    </tr>\n",
       "    <tr>\n",
       "      <th>3</th>\n",
       "      <td>7493</td>\n",
       "      <td>3</td>\n",
       "      <td>0</td>\n",
       "      <td>500</td>\n",
       "      <td>0</td>\n",
       "      <td>1</td>\n",
       "      <td>2</td>\n",
       "      <td>1</td>\n",
       "      <td>34</td>\n",
       "      <td>0</td>\n",
       "      <td>...</td>\n",
       "      <td>0</td>\n",
       "      <td>151</td>\n",
       "      <td>38</td>\n",
       "      <td>0</td>\n",
       "      <td>0</td>\n",
       "      <td>1</td>\n",
       "      <td>0</td>\n",
       "      <td>15</td>\n",
       "      <td>0</td>\n",
       "      <td>58.73</td>\n",
       "    </tr>\n",
       "    <tr>\n",
       "      <th>4</th>\n",
       "      <td>19264</td>\n",
       "      <td>2</td>\n",
       "      <td>0</td>\n",
       "      <td>500</td>\n",
       "      <td>0</td>\n",
       "      <td>9</td>\n",
       "      <td>0</td>\n",
       "      <td>0</td>\n",
       "      <td>19</td>\n",
       "      <td>3</td>\n",
       "      <td>...</td>\n",
       "      <td>0</td>\n",
       "      <td>39</td>\n",
       "      <td>100</td>\n",
       "      <td>0</td>\n",
       "      <td>0</td>\n",
       "      <td>1</td>\n",
       "      <td>0</td>\n",
       "      <td>0</td>\n",
       "      <td>1</td>\n",
       "      <td>132.65</td>\n",
       "    </tr>\n",
       "  </tbody>\n",
       "</table>\n",
       "<p>5 rows × 29 columns</p>\n",
       "</div>"
      ],
      "text/plain": [
       "   code_postal  nb_pieces  veranda  biens_nomades  sit_fam  profession  \\\n",
       "0        16131          1        0            500        1           1   \n",
       "1        22013          2        0            500        1           4   \n",
       "2        18092          3        0            500        1          10   \n",
       "3         7493          3        0            500        0           1   \n",
       "4        19264          2        0            500        0           9   \n",
       "\n",
       "   nature_lri  societe  domaine_activite  niv_urbanisation      ...        \\\n",
       "0           5        1                34                 0      ...         \n",
       "1           5        1                37                 0      ...         \n",
       "2           2        0                 1                 4      ...         \n",
       "3           2        1                34                 0      ...         \n",
       "4           0        0                19                 3      ...         \n",
       "\n",
       "   var3  var4  var5  var6  var7  var8  var9  var10  var11  prime_tot_ttc  \n",
       "0     0   194    49     0     0     1     0     30      1          67.68  \n",
       "1     0     0   100     0     0     5     0     12      0         120.60  \n",
       "2     1    98   100     0     0     5     0     30      1         100.62  \n",
       "3     0   151    38     0     0     1     0     15      0          58.73  \n",
       "4     0    39   100     0     0     1     0      0      1         132.65  \n",
       "\n",
       "[5 rows x 29 columns]"
      ]
     },
     "execution_count": 31,
     "metadata": {},
     "output_type": "execute_result"
    }
   ],
   "source": [
    "train2.head()"
   ]
  },
  {
   "cell_type": "code",
   "execution_count": 32,
   "metadata": {},
   "outputs": [],
   "source": [
    "from sklearn.model_selection import train_test_split\n",
    "X_train2, X_test2, y_train2, y_test2 = train_test_split(train2.drop('prime_tot_ttc', axis = 1), \n",
    "                                                    train2['prime_tot_ttc'],\n",
    "                                                    test_size = test2.shape[0] / (train2.shape[0] + test2.shape[0]),\n",
    "                                                    random_state = 0 \n",
    "                                                    )"
   ]
  },
  {
   "cell_type": "code",
   "execution_count": 33,
   "metadata": {},
   "outputs": [
    {
     "name": "stdout",
     "output_type": "stream",
     "text": [
      "Fitting 3 folds for each of 2 candidates, totalling 6 fits\n"
     ]
    },
    {
     "name": "stderr",
     "output_type": "stream",
     "text": [
      "[Parallel(n_jobs=-1)]: Done   3 out of   6 | elapsed:   14.0s remaining:   14.0s\n",
      "[Parallel(n_jobs=-1)]: Done   6 out of   6 | elapsed:   16.7s finished\n"
     ]
    },
    {
     "name": "stdout",
     "output_type": "stream",
     "text": [
      "Wall time: 19.7 s\n"
     ]
    },
    {
     "data": {
      "text/plain": [
       "GridSearchCV(cv=3, error_score='raise',\n",
       "       estimator=DecisionTreeRegressor(criterion='mse', max_depth=None, max_features=None,\n",
       "           max_leaf_nodes=None, min_impurity_decrease=0.0,\n",
       "           min_impurity_split=None, min_samples_leaf=1,\n",
       "           min_samples_split=2, min_weight_fraction_leaf=0.0,\n",
       "           presort=False, random_state=None, splitter='best'),\n",
       "       fit_params=None, iid=True, n_jobs=-1,\n",
       "       param_grid={'max_depth': (None, 30)}, pre_dispatch='2*n_jobs',\n",
       "       refit=True, return_train_score='warn', scoring=None, verbose=2)"
      ]
     },
     "execution_count": 33,
     "metadata": {},
     "output_type": "execute_result"
    }
   ],
   "source": [
    "DTregressor2 = DecisionTreeRegressor()\n",
    "params = {\n",
    "    'max_depth': (None, 30)\n",
    "}\n",
    "grid_search2 = GridSearchCV(DTregressor2, param_grid = params, cv = 3, n_jobs = -1, verbose=2)\n",
    "\n",
    "%time grid_search2.fit(X_train2, y_train2)"
   ]
  },
  {
   "cell_type": "code",
   "execution_count": 34,
   "metadata": {},
   "outputs": [
    {
     "data": {
      "text/plain": [
       "11.292139885291572"
      ]
     },
     "execution_count": 34,
     "metadata": {},
     "output_type": "execute_result"
    }
   ],
   "source": [
    "mape(y_test2, grid_search2.predict(X_test2))"
   ]
  },
  {
   "cell_type": "code",
   "execution_count": 35,
   "metadata": {},
   "outputs": [
    {
     "data": {
      "text/plain": [
       "11.67825645753657"
      ]
     },
     "execution_count": 35,
     "metadata": {},
     "output_type": "execute_result"
    }
   ],
   "source": [
    "mape(test2['prime_tot_ttc'], grid_search2.predict(test2.drop('prime_tot_ttc', axis = 1)))"
   ]
  }
 ],
 "metadata": {
  "kernelspec": {
   "display_name": "Python 3",
   "language": "python",
   "name": "python3"
  },
  "language_info": {
   "codemirror_mode": {
    "name": "ipython",
    "version": 3
   },
   "file_extension": ".py",
   "mimetype": "text/x-python",
   "name": "python",
   "nbconvert_exporter": "python",
   "pygments_lexer": "ipython3",
   "version": "3.6.4"
  }
 },
 "nbformat": 4,
 "nbformat_minor": 2
}
